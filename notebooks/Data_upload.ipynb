{
 "cells": [
  {
   "cell_type": "code",
   "execution_count": null,
   "id": "dac014f4-c93c-4c86-9e52-cc794fb38e9b",
   "metadata": {},
   "outputs": [],
   "source": [
    "from torchvision import datasets\n",
    "from torch.utils.data import DataLoader\n",
    "\n",
    "# Ruta donde se encuentran las imágenes\n",
    "data_dir = \"ruta_al_directorio_de_imagenes\"\n",
    "\n",
    "# Cargar el dataset y aplicar las transformaciones\n",
    "image_dataset = datasets.ImageFolder(root=data_dir, transform=data_transforms)\n",
    "\n",
    "# Crear el DataLoader para cargar las imágenes en batches\n",
    "data_loader = DataLoader(image_dataset, batch_size=32, shuffle=True, num_workers=4)\n"
   ]
  }
 ],
 "metadata": {
  "kernelspec": {
   "display_name": "Python 3 (ipykernel)",
   "language": "python",
   "name": "python3"
  },
  "language_info": {
   "codemirror_mode": {
    "name": "ipython",
    "version": 3
   },
   "file_extension": ".py",
   "mimetype": "text/x-python",
   "name": "python",
   "nbconvert_exporter": "python",
   "pygments_lexer": "ipython3",
   "version": "3.12.7"
  }
 },
 "nbformat": 4,
 "nbformat_minor": 5
}
